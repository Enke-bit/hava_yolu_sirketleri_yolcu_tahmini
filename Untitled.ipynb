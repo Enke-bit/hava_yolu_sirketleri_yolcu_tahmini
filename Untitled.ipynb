{
 "cells": [
  {
   "cell_type": "markdown",
   "id": "39c53de6",
   "metadata": {},
   "source": [
    "# Hava yolu yolcu tahmin modeli."
   ]
  },
  {
   "cell_type": "markdown",
   "id": "1adfcad2",
   "metadata": {},
   "source": [
    "RNN ile Hava Yollları şirketlerin yolu trafiğinde bir model çalışması yapmayı planlıyotum."
   ]
  },
  {
   "cell_type": "markdown",
   "id": "c7ebd2a4",
   "metadata": {},
   "source": [
    "1) Tespit edilen iş sorunu."
   ]
  },
  {
   "cell_type": "markdown",
   "id": "57c9d83e",
   "metadata": {},
   "source": [
    "- Şimdi Elimizde geçmiş yıllarda hava yolunu kullanan yolcu verisi var bu veri üzerinden gelecekte bu hava yolunu kullanması\n",
    "muhtemel yolcu üzerinden tahmin yapan bir model kurulmasını planlıyorum.\n",
    "- Bu varsayımsal gelecek planlaması üzerinden muhtemel yolcu sayısını tahmin etmeye çalışacağız.\n",
    "- RNN modelini kulanıyorum, burda RNN modeli avantajı bana geçöiş zaman verisini model üzerinde etki etme esnekliği sunması.\n",
    "- Veri setinin hikayesinede bakalım. Bu veri seti 1949 yılından 1960 yılına kabar olan verileri kapsar. Ve aylık olarak\n",
    "veri tutulmuş olan veriler her ayki yolcu sayısını vermektedir. Belirtilen zaman aralığında.\n",
    "- Değişkenlere bakalım;\n",
    "1 - Mounth : Aylık olarak yer alan tarih değişkeni.\n",
    "2 - Passengers : İlgili işlem tarihdeki yolcu sayısı."
   ]
  },
  {
   "cell_type": "markdown",
   "id": "f1e1e087",
   "metadata": {},
   "source": [
    "2. Veriyi anlama"
   ]
  },
  {
   "cell_type": "markdown",
   "id": "8a04e518",
   "metadata": {},
   "source": [
    "# İmport edilmesi gerek kütüpaneler"
   ]
  },
  {
   "cell_type": "code",
   "execution_count": 5,
   "id": "fcb71779",
   "metadata": {},
   "outputs": [
    {
     "name": "stdout",
     "output_type": "stream",
     "text": [
      "WARNING:tensorflow:From C:\\Users\\realb\\AppData\\Local\\Temp\\ipykernel_16748\\1148342247.py:24: The name tf.logging.set_verbosity is deprecated. Please use tf.compat.v1.logging.set_verbosity instead.\n",
      "\n"
     ]
    }
   ],
   "source": [
    "# Veriyi okuma ve işleme adımına kullanılacak olan kütüpaneler\n",
    "import numpy as np\n",
    "import pandas as pd\n",
    "import datetime as dt\n",
    "import tensorflow as tf\n",
    "import matplotlib.pyplot as plt\n",
    "\n",
    "# Model değerlendirmesi ve veri üzerinde scale etmemize yarayacak kütüpaneler.\n",
    "from sklearn.preprocessing import MinMaxScaler\n",
    "from sklearn.metrics import mean_squared_error\n",
    "\n",
    "# Model kurmamaızda yardımcı olacak olan kütüpaneler\n",
    "from tensorflow.keras.models import Sequential\n",
    "from tensorflow.keras.layers import Dense, SimpleRNN, Dropout\n",
    "from tensorflow.keras.callbacks import ModelCheckpoint, EarlyStopping\n",
    "\n",
    "# Warningleri (Uyarıları) kapatmak için kullandığımız kütüpaneler.\n",
    "import warnings\n",
    "warnings.filterwarnings('ignore')\n",
    "\n",
    "# Tensorflow çalıştığında gelen uyaryı kapatmak.\n",
    "import os\n",
    "os.environ['TF_CPP_MIN_LOG_LEVEL'] = '3'\n",
    "tf.compat.v1.logging.set_verbosity(tf.compat.v1.logging.ERROR)\n",
    "# Bu uyarıyı size detaylı anlatayım. Tenserflow çalıştığı her epoch içinde loglama işlemi yapar ve bu işlemlrede tenserfloew \n",
    "#üzerinden gelen uyarıları teker teker almamak için bu şekilde bir uyarıyı devre dığı bırakma yöntemi kullanılmaktadır."
   ]
  },
  {
   "cell_type": "markdown",
   "id": "adc33790",
   "metadata": {},
   "source": [
    "# Veriyi anlama"
   ]
  },
  {
   "cell_type": "markdown",
   "id": "8451ab18",
   "metadata": {},
   "source": [
    "Şimid veri setini daha detaylı inv-celemeye başlayalım."
   ]
  },
  {
   "cell_type": "code",
   "execution_count": 11,
   "id": "e2148751",
   "metadata": {},
   "outputs": [],
   "source": [
    "# Burda pandas kullanarak read_csv methodu ile veri setini okumasuını sağlıyorum.\n",
    "\n",
    "df = pd.read_csv(\"C:/Users/realb/Desktop/Hava Yolu yolcu tahmin modeli/international-airline-passengers.CSV\")"
   ]
  },
  {
   "cell_type": "code",
   "execution_count": 12,
   "id": "311c1641",
   "metadata": {},
   "outputs": [
    {
     "data": {
      "text/html": [
       "<div>\n",
       "<style scoped>\n",
       "    .dataframe tbody tr th:only-of-type {\n",
       "        vertical-align: middle;\n",
       "    }\n",
       "\n",
       "    .dataframe tbody tr th {\n",
       "        vertical-align: top;\n",
       "    }\n",
       "\n",
       "    .dataframe thead th {\n",
       "        text-align: right;\n",
       "    }\n",
       "</style>\n",
       "<table border=\"1\" class=\"dataframe\">\n",
       "  <thead>\n",
       "    <tr style=\"text-align: right;\">\n",
       "      <th></th>\n",
       "      <th>Month</th>\n",
       "      <th>International airline passengers: monthly totals in thousands. Jan 49 ? Dec 60</th>\n",
       "    </tr>\n",
       "  </thead>\n",
       "  <tbody>\n",
       "    <tr>\n",
       "      <th>0</th>\n",
       "      <td>1949-01</td>\n",
       "      <td>112.0</td>\n",
       "    </tr>\n",
       "    <tr>\n",
       "      <th>1</th>\n",
       "      <td>1949-02</td>\n",
       "      <td>118.0</td>\n",
       "    </tr>\n",
       "    <tr>\n",
       "      <th>2</th>\n",
       "      <td>1949-03</td>\n",
       "      <td>132.0</td>\n",
       "    </tr>\n",
       "    <tr>\n",
       "      <th>3</th>\n",
       "      <td>1949-04</td>\n",
       "      <td>129.0</td>\n",
       "    </tr>\n",
       "    <tr>\n",
       "      <th>4</th>\n",
       "      <td>1949-05</td>\n",
       "      <td>121.0</td>\n",
       "    </tr>\n",
       "  </tbody>\n",
       "</table>\n",
       "</div>"
      ],
      "text/plain": [
       "     Month  International airline passengers: monthly totals in thousands. Jan 49 ? Dec 60\n",
       "0  1949-01                                              112.0                             \n",
       "1  1949-02                                              118.0                             \n",
       "2  1949-03                                              132.0                             \n",
       "3  1949-04                                              129.0                             \n",
       "4  1949-05                                              121.0                             "
      ]
     },
     "execution_count": 12,
     "metadata": {},
     "output_type": "execute_result"
    }
   ],
   "source": [
    "# Veri seti üzerinden veri setinin ilk beç satıını okumasını sağlıyorum ve bu çalışma için veriyi anlamamı sağlıyor. \n",
    "\n",
    "df.head()"
   ]
  },
  {
   "cell_type": "code",
   "execution_count": 13,
   "id": "7234770a",
   "metadata": {},
   "outputs": [
    {
     "data": {
      "text/plain": [
       "Index(['Month', 'International airline passengers: monthly totals in thousands. Jan 49 ? Dec 60'], dtype='object')"
      ]
     },
     "execution_count": 13,
     "metadata": {},
     "output_type": "execute_result"
    }
   ],
   "source": [
    "# Şimid yukarda veri setine baktığımda veri seti üzeirnde Bir sütünün gereksiz daha doğrusu isim üzerinden değişiklik yapmayı \n",
    "#çalışmam için daha doğru olduğunu sanıyorum.\n",
    "\n",
    "df.columns"
   ]
  },
  {
   "cell_type": "code",
   "execution_count": 14,
   "id": "a0409ea0",
   "metadata": {},
   "outputs": [],
   "source": [
    "# Birinci değişkenin ismi olduğu gibi kalsın ben ikinci değişekinin ismini değiştirmeyi hedefliyorum.\n",
    "\n",
    "df.columns = [\"Month\", \"Passengers\"]"
   ]
  },
  {
   "cell_type": "code",
   "execution_count": 15,
   "id": "f62765a0",
   "metadata": {},
   "outputs": [
    {
     "data": {
      "text/html": [
       "<div>\n",
       "<style scoped>\n",
       "    .dataframe tbody tr th:only-of-type {\n",
       "        vertical-align: middle;\n",
       "    }\n",
       "\n",
       "    .dataframe tbody tr th {\n",
       "        vertical-align: top;\n",
       "    }\n",
       "\n",
       "    .dataframe thead th {\n",
       "        text-align: right;\n",
       "    }\n",
       "</style>\n",
       "<table border=\"1\" class=\"dataframe\">\n",
       "  <thead>\n",
       "    <tr style=\"text-align: right;\">\n",
       "      <th></th>\n",
       "      <th>Month</th>\n",
       "      <th>Passengers</th>\n",
       "    </tr>\n",
       "  </thead>\n",
       "  <tbody>\n",
       "    <tr>\n",
       "      <th>0</th>\n",
       "      <td>1949-01</td>\n",
       "      <td>112.0</td>\n",
       "    </tr>\n",
       "    <tr>\n",
       "      <th>1</th>\n",
       "      <td>1949-02</td>\n",
       "      <td>118.0</td>\n",
       "    </tr>\n",
       "    <tr>\n",
       "      <th>2</th>\n",
       "      <td>1949-03</td>\n",
       "      <td>132.0</td>\n",
       "    </tr>\n",
       "    <tr>\n",
       "      <th>3</th>\n",
       "      <td>1949-04</td>\n",
       "      <td>129.0</td>\n",
       "    </tr>\n",
       "    <tr>\n",
       "      <th>4</th>\n",
       "      <td>1949-05</td>\n",
       "      <td>121.0</td>\n",
       "    </tr>\n",
       "  </tbody>\n",
       "</table>\n",
       "</div>"
      ],
      "text/plain": [
       "     Month  Passengers\n",
       "0  1949-01       112.0\n",
       "1  1949-02       118.0\n",
       "2  1949-03       132.0\n",
       "3  1949-04       129.0\n",
       "4  1949-05       121.0"
      ]
     },
     "execution_count": 15,
     "metadata": {},
     "output_type": "execute_result"
    }
   ],
   "source": [
    "# Şuan veri setinin okunaklılığı daha iyi oldu.\n",
    "\n",
    "df.head()"
   ]
  },
  {
   "cell_type": "code",
   "execution_count": 16,
   "id": "085c4ee6",
   "metadata": {},
   "outputs": [
    {
     "data": {
      "text/plain": [
       "\"\\n- Şimidi veri setinin incelemesini yapalım veri seti 'Month' sütünü yıl ve o yılın kaçıncı ay olduğuna yönelik verileri bize vermekte.\\n- 'Passengers' Verisi ise o ay üzerinden yolculuk yapan yolcu sayısını bize vermekte ben bu sütün ve sütünlerın içrdiği verilerin\\nokumasını bu şekilde yaptım. Şimdi proje üzerinden bu okuma ile çalımaya devam ediyorum.\\n\""
      ]
     },
     "execution_count": 16,
     "metadata": {},
     "output_type": "execute_result"
    }
   ],
   "source": [
    "\"\"\"\n",
    "- Şimidi veri setinin incelemesini yapalım veri seti 'Month' sütünü yıl ve o yılın kaçıncı ay olduğuna yönelik verileri bize vermekte.\n",
    "- 'Passengers' Verisi ise o ay üzerinden yolculuk yapan yolcu sayısını bize vermekte ben bu sütün ve sütünlerın içrdiği verilerin\n",
    "okumasını bu şekilde yaptım. Şimdi proje üzerinden bu okuma ile çalımaya devam ediyorum.\n",
    "\"\"\""
   ]
  },
  {
   "cell_type": "code",
   "execution_count": 17,
   "id": "035389b8",
   "metadata": {},
   "outputs": [
    {
     "data": {
      "text/html": [
       "<div>\n",
       "<style scoped>\n",
       "    .dataframe tbody tr th:only-of-type {\n",
       "        vertical-align: middle;\n",
       "    }\n",
       "\n",
       "    .dataframe tbody tr th {\n",
       "        vertical-align: top;\n",
       "    }\n",
       "\n",
       "    .dataframe thead th {\n",
       "        text-align: right;\n",
       "    }\n",
       "</style>\n",
       "<table border=\"1\" class=\"dataframe\">\n",
       "  <thead>\n",
       "    <tr style=\"text-align: right;\">\n",
       "      <th></th>\n",
       "      <th>Month</th>\n",
       "      <th>Passengers</th>\n",
       "    </tr>\n",
       "  </thead>\n",
       "  <tbody>\n",
       "    <tr>\n",
       "      <th>140</th>\n",
       "      <td>1960-09</td>\n",
       "      <td>508.0</td>\n",
       "    </tr>\n",
       "    <tr>\n",
       "      <th>141</th>\n",
       "      <td>1960-10</td>\n",
       "      <td>461.0</td>\n",
       "    </tr>\n",
       "    <tr>\n",
       "      <th>142</th>\n",
       "      <td>1960-11</td>\n",
       "      <td>390.0</td>\n",
       "    </tr>\n",
       "    <tr>\n",
       "      <th>143</th>\n",
       "      <td>1960-12</td>\n",
       "      <td>432.0</td>\n",
       "    </tr>\n",
       "    <tr>\n",
       "      <th>144</th>\n",
       "      <td>International airline passengers: monthly tota...</td>\n",
       "      <td>NaN</td>\n",
       "    </tr>\n",
       "  </tbody>\n",
       "</table>\n",
       "</div>"
      ],
      "text/plain": [
       "                                                 Month  Passengers\n",
       "140                                            1960-09       508.0\n",
       "141                                            1960-10       461.0\n",
       "142                                            1960-11       390.0\n",
       "143                                            1960-12       432.0\n",
       "144  International airline passengers: monthly tota...         NaN"
      ]
     },
     "execution_count": 17,
     "metadata": {},
     "output_type": "execute_result"
    }
   ],
   "source": [
    "# Verisetinin sondaki gözlemlerine bakacak olursak.\n",
    "\n",
    "df.tail()\n",
    "# Bakın burda bir hata var bu hatayı not alıp veriyi düzenleme aşamasında bu hatayı gidereçeğim."
   ]
  },
  {
   "cell_type": "code",
   "execution_count": 19,
   "id": "6e914e78",
   "metadata": {},
   "outputs": [
    {
     "data": {
      "text/plain": [
       "(145, 2)"
      ]
     },
     "execution_count": 19,
     "metadata": {},
     "output_type": "execute_result"
    }
   ],
   "source": [
    "# Veri setinin bir shapene bakalım kaç gözlem var ve bu gözlemlerin şekli nasıl.\n",
    "\n",
    "df.shape\n",
    "# Veri setinin okumasını yaparsan 145 satır yani 145 ay var.\n",
    "# Ve 2 adet sütün var bunlar ay 'Month' yani ay verisi ve 'Passengers' Bu ise yolcu sayısının olduğu veri"
   ]
  },
  {
   "cell_type": "code",
   "execution_count": 21,
   "id": "5dfe25af",
   "metadata": {},
   "outputs": [
    {
     "data": {
      "text/plain": [
       "Month          object\n",
       "Passengers    float64\n",
       "dtype: object"
      ]
     },
     "execution_count": 21,
     "metadata": {},
     "output_type": "execute_result"
    }
   ],
   "source": [
    "# Değişkenlkerin tipine bakalım.\n",
    "\n",
    "df.dtypes"
   ]
  },
  {
   "cell_type": "code",
   "execution_count": null,
   "id": "1cb4023b",
   "metadata": {},
   "outputs": [],
   "source": [
    "# Şimdi bakalım nasıl hatalar yakladık ve bunlar nedir.\n",
    "1 - veri setinde istemediğim veri tipinde veri bulunmakta.\n",
    "2 - Veri setinde 'Mount' sütünundan gelen veriler obje olarak tanımlanmış."
   ]
  },
  {
   "cell_type": "code",
   "execution_count": 22,
   "id": "bd334f54",
   "metadata": {},
   "outputs": [
    {
     "data": {
      "text/plain": [
       "Month         0\n",
       "Passengers    1\n",
       "dtype: int64"
      ]
     },
     "execution_count": 22,
     "metadata": {},
     "output_type": "execute_result"
    }
   ],
   "source": [
    "# Eksik değer varmı? \n",
    "\n",
    "df.isnull().sum()\n",
    "# Passengers değişkeninde bir eksiklik varmış!\n",
    "# Bu eksiği vaten bir görmuştuk. tanil komutu ile"
   ]
  },
  {
   "cell_type": "code",
   "execution_count": 23,
   "id": "b3dc2b1f",
   "metadata": {},
   "outputs": [
    {
     "data": {
      "text/html": [
       "<div>\n",
       "<style scoped>\n",
       "    .dataframe tbody tr th:only-of-type {\n",
       "        vertical-align: middle;\n",
       "    }\n",
       "\n",
       "    .dataframe tbody tr th {\n",
       "        vertical-align: top;\n",
       "    }\n",
       "\n",
       "    .dataframe thead th {\n",
       "        text-align: right;\n",
       "    }\n",
       "</style>\n",
       "<table border=\"1\" class=\"dataframe\">\n",
       "  <thead>\n",
       "    <tr style=\"text-align: right;\">\n",
       "      <th></th>\n",
       "      <th>count</th>\n",
       "      <th>mean</th>\n",
       "      <th>std</th>\n",
       "      <th>min</th>\n",
       "      <th>25%</th>\n",
       "      <th>50%</th>\n",
       "      <th>75%</th>\n",
       "      <th>max</th>\n",
       "    </tr>\n",
       "  </thead>\n",
       "  <tbody>\n",
       "    <tr>\n",
       "      <th>Passengers</th>\n",
       "      <td>144.0</td>\n",
       "      <td>280.298611</td>\n",
       "      <td>119.966317</td>\n",
       "      <td>104.0</td>\n",
       "      <td>180.0</td>\n",
       "      <td>265.5</td>\n",
       "      <td>360.5</td>\n",
       "      <td>622.0</td>\n",
       "    </tr>\n",
       "  </tbody>\n",
       "</table>\n",
       "</div>"
      ],
      "text/plain": [
       "            count        mean         std    min    25%    50%    75%    max\n",
       "Passengers  144.0  280.298611  119.966317  104.0  180.0  265.5  360.5  622.0"
      ]
     },
     "execution_count": 23,
     "metadata": {},
     "output_type": "execute_result"
    }
   ],
   "source": [
    "# Verinin dağılım bilgisini öğrenmeye çalışalım. \n",
    "\n",
    "df.describe().T\n",
    "\n",
    "# Ortalama 280 yolcu varmış aylık.\n",
    "# Minumum 104 yolcu\n",
    "# Maksimum 622 yolcu seyehat etmiş.\n",
    "# Medyan değeride 265 miş.\n",
    "# Standart sapması 119.\n",
    "\n",
    "# Genel bir tablo üzerinden ortalama 280 olup standart sapması 119 ise bu veride değikenlik oldukça yüksek.\n",
    "# Standart sapma aslında sapmaların ortalamasını ifade eder. Ynai ortalamanın ne kadar dışında dağılım gösteriyor."
   ]
  },
  {
   "cell_type": "markdown",
   "id": "e70504dd",
   "metadata": {},
   "source": [
    "# Veriyi hazırlama"
   ]
  },
  {
   "cell_type": "code",
   "execution_count": 24,
   "id": "e821a7a7",
   "metadata": {},
   "outputs": [],
   "source": [
    "# Veriyi anlama kısmında bızuk bir satır vardı şimid bu bozuk satırı ortadan kaldıralım.\n",
    "# hatta 144 satıdaydı yani son satır onu eğer odak dışı bırakırsam sanırım bu sorunu çözerim.\n",
    "\n",
    "df = df[:144]"
   ]
  },
  {
   "cell_type": "code",
   "execution_count": 25,
   "id": "1ac90c82",
   "metadata": {},
   "outputs": [
    {
     "data": {
      "text/html": [
       "<div>\n",
       "<style scoped>\n",
       "    .dataframe tbody tr th:only-of-type {\n",
       "        vertical-align: middle;\n",
       "    }\n",
       "\n",
       "    .dataframe tbody tr th {\n",
       "        vertical-align: top;\n",
       "    }\n",
       "\n",
       "    .dataframe thead th {\n",
       "        text-align: right;\n",
       "    }\n",
       "</style>\n",
       "<table border=\"1\" class=\"dataframe\">\n",
       "  <thead>\n",
       "    <tr style=\"text-align: right;\">\n",
       "      <th></th>\n",
       "      <th>Month</th>\n",
       "      <th>Passengers</th>\n",
       "    </tr>\n",
       "  </thead>\n",
       "  <tbody>\n",
       "    <tr>\n",
       "      <th>139</th>\n",
       "      <td>1960-08</td>\n",
       "      <td>606.0</td>\n",
       "    </tr>\n",
       "    <tr>\n",
       "      <th>140</th>\n",
       "      <td>1960-09</td>\n",
       "      <td>508.0</td>\n",
       "    </tr>\n",
       "    <tr>\n",
       "      <th>141</th>\n",
       "      <td>1960-10</td>\n",
       "      <td>461.0</td>\n",
       "    </tr>\n",
       "    <tr>\n",
       "      <th>142</th>\n",
       "      <td>1960-11</td>\n",
       "      <td>390.0</td>\n",
       "    </tr>\n",
       "    <tr>\n",
       "      <th>143</th>\n",
       "      <td>1960-12</td>\n",
       "      <td>432.0</td>\n",
       "    </tr>\n",
       "  </tbody>\n",
       "</table>\n",
       "</div>"
      ],
      "text/plain": [
       "       Month  Passengers\n",
       "139  1960-08       606.0\n",
       "140  1960-09       508.0\n",
       "141  1960-10       461.0\n",
       "142  1960-11       390.0\n",
       "143  1960-12       432.0"
      ]
     },
     "execution_count": 25,
     "metadata": {},
     "output_type": "execute_result"
    }
   ],
   "source": [
    "# İşlem oldu ve bozuk oılan son satırdan kurtulmuş oldum.\n",
    "\n",
    "df.tail()"
   ]
  },
  {
   "cell_type": "code",
   "execution_count": 26,
   "id": "dc8ff7f0",
   "metadata": {},
   "outputs": [
    {
     "name": "stdout",
     "output_type": "stream",
     "text": [
      "<class 'pandas.core.frame.DataFrame'>\n",
      "RangeIndex: 144 entries, 0 to 143\n",
      "Data columns (total 2 columns):\n",
      " #   Column      Non-Null Count  Dtype  \n",
      "---  ------      --------------  -----  \n",
      " 0   Month       144 non-null    object \n",
      " 1   Passengers  144 non-null    float64\n",
      "dtypes: float64(1), object(1)\n",
      "memory usage: 2.4+ KB\n"
     ]
    }
   ],
   "source": [
    "# Şimid tespit etiğim ikinci hataya bakıyorum ve bu neydi? Bu tarihi ifade eden 'Month' verisi object veri tipindeydi.\n",
    "\n",
    "df.info()"
   ]
  },
  {
   "cell_type": "raw",
   "id": "e80fc18d",
   "metadata": {},
   "source": [
    "# Bu değişeken normalde date yani zaman değişkeni iken burda katogorik bir değişken olarak görünmekte.\n",
    "# Burda bu katogorik olrak görünen bu değişkeni tarih değişkeni olrak düzeltmeyi amaçlıyorum."
   ]
  },
  {
   "cell_type": "code",
   "execution_count": 28,
   "id": "bd55980d",
   "metadata": {},
   "outputs": [],
   "source": [
    "# Değiştirmek istediğim değişkeni yazıp pandasdan yararlanıp bu değişkeni zaman türünde bir veri tipine değiştirme işlemi.\n",
    "\n",
    "df[\"Month\"] = pd.to_datetime(df[\"Month\"])"
   ]
  },
  {
   "cell_type": "code",
   "execution_count": 29,
   "id": "ea0964b3",
   "metadata": {},
   "outputs": [
    {
     "name": "stdout",
     "output_type": "stream",
     "text": [
      "<class 'pandas.core.frame.DataFrame'>\n",
      "RangeIndex: 144 entries, 0 to 143\n",
      "Data columns (total 2 columns):\n",
      " #   Column      Non-Null Count  Dtype         \n",
      "---  ------      --------------  -----         \n",
      " 0   Month       144 non-null    datetime64[ns]\n",
      " 1   Passengers  144 non-null    float64       \n",
      "dtypes: datetime64[ns](1), float64(1)\n",
      "memory usage: 2.4 KB\n"
     ]
    }
   ],
   "source": [
    "# Katogorik olan veriyi zaman serisi bir türde veri tipine çevirmiş olduk.\n",
    "\n",
    "df.info()"
   ]
  },
  {
   "cell_type": "code",
   "execution_count": 30,
   "id": "0378cfce",
   "metadata": {},
   "outputs": [
    {
     "name": "stdout",
     "output_type": "stream",
     "text": [
      "Maksimum Tarih : 1960-12-01 00:00:00\n",
      "Minumum Traih : 1949-01-01 00:00:00\n"
     ]
    }
   ],
   "source": [
    "# Veri artık zaman serisinde bir veri olduğundan ben zamana dayalı işlem yaptırabiliyorum vce şimdi bu işlemleri yaptırqayım.\n",
    "\n",
    "print(\"Maksimum Tarih :\", df[\"Month\"].max())\n",
    "print(\"Minumum Traih :\", df[\"Month\"].min())\n",
    "\n",
    "# Veri setimdeki zamansal işlemleri yapabilirim."
   ]
  },
  {
   "cell_type": "code",
   "execution_count": 31,
   "id": "bbfb0bea",
   "metadata": {},
   "outputs": [],
   "source": [
    "# Şimdi Month veri setinde bir veri ama ben bunu indexe dayalı bir veri tipine değişkene çavirmeye çalışıyorum.\n",
    "\n",
    "df.index = df[\"Month\"]"
   ]
  },
  {
   "cell_type": "code",
   "execution_count": 32,
   "id": "fdc6b6c2",
   "metadata": {},
   "outputs": [
    {
     "data": {
      "text/html": [
       "<div>\n",
       "<style scoped>\n",
       "    .dataframe tbody tr th:only-of-type {\n",
       "        vertical-align: middle;\n",
       "    }\n",
       "\n",
       "    .dataframe tbody tr th {\n",
       "        vertical-align: top;\n",
       "    }\n",
       "\n",
       "    .dataframe thead th {\n",
       "        text-align: right;\n",
       "    }\n",
       "</style>\n",
       "<table border=\"1\" class=\"dataframe\">\n",
       "  <thead>\n",
       "    <tr style=\"text-align: right;\">\n",
       "      <th></th>\n",
       "      <th>Month</th>\n",
       "      <th>Passengers</th>\n",
       "    </tr>\n",
       "    <tr>\n",
       "      <th>Month</th>\n",
       "      <th></th>\n",
       "      <th></th>\n",
       "    </tr>\n",
       "  </thead>\n",
       "  <tbody>\n",
       "    <tr>\n",
       "      <th>1949-01-01</th>\n",
       "      <td>1949-01-01</td>\n",
       "      <td>112.0</td>\n",
       "    </tr>\n",
       "    <tr>\n",
       "      <th>1949-02-01</th>\n",
       "      <td>1949-02-01</td>\n",
       "      <td>118.0</td>\n",
       "    </tr>\n",
       "    <tr>\n",
       "      <th>1949-03-01</th>\n",
       "      <td>1949-03-01</td>\n",
       "      <td>132.0</td>\n",
       "    </tr>\n",
       "    <tr>\n",
       "      <th>1949-04-01</th>\n",
       "      <td>1949-04-01</td>\n",
       "      <td>129.0</td>\n",
       "    </tr>\n",
       "    <tr>\n",
       "      <th>1949-05-01</th>\n",
       "      <td>1949-05-01</td>\n",
       "      <td>121.0</td>\n",
       "    </tr>\n",
       "  </tbody>\n",
       "</table>\n",
       "</div>"
      ],
      "text/plain": [
       "                Month  Passengers\n",
       "Month                            \n",
       "1949-01-01 1949-01-01       112.0\n",
       "1949-02-01 1949-02-01       118.0\n",
       "1949-03-01 1949-03-01       132.0\n",
       "1949-04-01 1949-04-01       129.0\n",
       "1949-05-01 1949-05-01       121.0"
      ]
     },
     "execution_count": 32,
     "metadata": {},
     "output_type": "execute_result"
    }
   ],
   "source": [
    "# İndex'e okunur hale gelen veriyi tanımlama işlemini gerçekleştirdim fazla olarak duran Month sütünüunu bi gideriyim \n",
    "\n",
    "df.head()"
   ]
  },
  {
   "cell_type": "code",
   "execution_count": 33,
   "id": "d0cd1748",
   "metadata": {},
   "outputs": [],
   "source": [
    "# Şimdi bu silme işlemini \"Month\" değişkeninde olacak satırlara değil sütünlara yönelik bir silme o yüzden axis=1 olmalı ve kalıcı \n",
    "#olması için inplace=True yapılmalı hadiş bu işlemi yapalım.\n",
    "\n",
    "df.drop(\"Month\", axis=1, inplace=True)"
   ]
  },
  {
   "cell_type": "code",
   "execution_count": 34,
   "id": "fde06423",
   "metadata": {},
   "outputs": [
    {
     "data": {
      "text/html": [
       "<div>\n",
       "<style scoped>\n",
       "    .dataframe tbody tr th:only-of-type {\n",
       "        vertical-align: middle;\n",
       "    }\n",
       "\n",
       "    .dataframe tbody tr th {\n",
       "        vertical-align: top;\n",
       "    }\n",
       "\n",
       "    .dataframe thead th {\n",
       "        text-align: right;\n",
       "    }\n",
       "</style>\n",
       "<table border=\"1\" class=\"dataframe\">\n",
       "  <thead>\n",
       "    <tr style=\"text-align: right;\">\n",
       "      <th></th>\n",
       "      <th>Passengers</th>\n",
       "    </tr>\n",
       "    <tr>\n",
       "      <th>Month</th>\n",
       "      <th></th>\n",
       "    </tr>\n",
       "  </thead>\n",
       "  <tbody>\n",
       "    <tr>\n",
       "      <th>1949-01-01</th>\n",
       "      <td>112.0</td>\n",
       "    </tr>\n",
       "    <tr>\n",
       "      <th>1949-02-01</th>\n",
       "      <td>118.0</td>\n",
       "    </tr>\n",
       "    <tr>\n",
       "      <th>1949-03-01</th>\n",
       "      <td>132.0</td>\n",
       "    </tr>\n",
       "    <tr>\n",
       "      <th>1949-04-01</th>\n",
       "      <td>129.0</td>\n",
       "    </tr>\n",
       "    <tr>\n",
       "      <th>1949-05-01</th>\n",
       "      <td>121.0</td>\n",
       "    </tr>\n",
       "  </tbody>\n",
       "</table>\n",
       "</div>"
      ],
      "text/plain": [
       "            Passengers\n",
       "Month                 \n",
       "1949-01-01       112.0\n",
       "1949-02-01       118.0\n",
       "1949-03-01       132.0\n",
       "1949-04-01       129.0\n",
       "1949-05-01       121.0"
      ]
     },
     "execution_count": 34,
     "metadata": {},
     "output_type": "execute_result"
    }
   ],
   "source": [
    "# evet şun veri seti istediğim formata gelmiş oldu.\n",
    "\n",
    "df.head()"
   ]
  },
  {
   "cell_type": "code",
   "execution_count": 35,
   "id": "386fd70d",
   "metadata": {},
   "outputs": [],
   "source": [
    "# Şimdi veri setinin bu halini enson model değiştirmede değerlendirmek için bir saklayalım.\n",
    "\n",
    "result_df = df.copy()"
   ]
  },
  {
   "cell_type": "code",
   "execution_count": 37,
   "id": "d3dc9446",
   "metadata": {},
   "outputs": [
    {
     "data": {
      "text/plain": [
       "<Axes: title={'center': 'Month airline passengers'}, xlabel='Month'>"
      ]
     },
     "execution_count": 37,
     "metadata": {},
     "output_type": "execute_result"
    },
    {
     "data": {
      "image/png": "[encoded data removed]",
      "text/plain": [
       "<Figure size 1400x800 with 1 Axes>"
      ]
     },
     "metadata": {},
     "output_type": "display_data"
    }
   ],
   "source": [
    "# Şimid bu veri setini bir görselleştirelim.\n",
    "# Kod görselleştir ve 14,8 ebatında görselleştir ve başlık tanımlamasını yapıyorum.\n",
    "\n",
    "df.plot(figsize=(14,8), title='Month airline passengers')"
   ]
  },
  {
   "cell_type": "raw",
   "id": "4579f0a5",
   "metadata": {},
   "source": [
    "# Burda zaman serisi alanına çok derin girmeden o kunu başlı başına bir konu çunki bakmamız gerek mevsimsellik, trend, durağanlık\n",
    "#konularına derin girmeden bu veriler üzerinden bir derin öğrenme konusu olarak ele aldığımız şekilde ilerlemeye çalışıyoruz."
   ]
  },
  {
   "cell_type": "raw",
   "id": "1a6d0ebf",
   "metadata": {},
   "source": [
    "# Bu arada veriye genel bakarsak beklentimiz doğrultusunda ve veri mersimlere yönelik bir artış ve azalış söz konusu oılqabilir."
   ]
  },
  {
   "cell_type": "code",
   "execution_count": null,
   "id": "88c3eb40",
   "metadata": {},
   "outputs": [],
   "source": [
    "# Veri pandas dataframe veri türnde bir veriyi numpy array türünde veriye çevirmemiz gerekmektedir.\n",
    "# Bu işlemi Modelleme işlemi için modelin uygun veri kabulune göre bir çalışma olarak niteliyebilriz."
   ]
  },
  {
   "cell_type": "code",
   "execution_count": 39,
   "id": "b7ae9bf6",
   "metadata": {},
   "outputs": [],
   "source": [
    "# Gerekli array boyutuna veriyi çeviriyorum.\n",
    "\n",
    "data = df[\"Passengers\"].values"
   ]
  },
  {
   "cell_type": "code",
   "execution_count": 40,
   "id": "b598287e",
   "metadata": {},
   "outputs": [
    {
     "data": {
      "text/plain": [
       "array([112., 118., 132., 129., 121.])"
      ]
     },
     "execution_count": 40,
     "metadata": {},
     "output_type": "execute_result"
    }
   ],
   "source": [
    "# Veri artık array matriks boyutunda ve veriyi bu şekilde çağırma işlemini yapıyorum.\n",
    "\n",
    "data[0:5]"
   ]
  },
  {
   "cell_type": "code",
   "execution_count": 41,
   "id": "47f0de97",
   "metadata": {},
   "outputs": [
    {
     "data": {
      "text/plain": [
       "numpy.ndarray"
      ]
     },
     "execution_count": 41,
     "metadata": {},
     "output_type": "execute_result"
    }
   ],
   "source": [
    "# Veri tipinide birde burdan bakalım gerekli olmuşmu.\n",
    "\n",
    "type(data[0:5])"
   ]
  },
  {
   "cell_type": "raw",
   "id": "25d8df3d",
   "metadata": {},
   "source": [
    "# Bakın bu işlem önemli çümkü RNN modelleri yapısı gereği numpy array tipinde veri bekler geçmişdel çıkarım yapma için kendi \n",
    "#yapyısı gereği o yüzden bu şekilde oılacak bir veri tipi atamsını yapmam gerekir bu önemlidir. RNN modellerine özgü bir konudur."
   ]
  },
  {
   "cell_type": "code",
   "execution_count": 42,
   "id": "938c2151",
   "metadata": {},
   "outputs": [
    {
     "data": {
      "text/plain": [
       "numpy.float64"
      ]
     },
     "execution_count": 42,
     "metadata": {},
     "output_type": "execute_result"
    }
   ],
   "source": [
    "# Veri türüne bakalım.\n",
    "\n",
    "type(data[0])"
   ]
  },
  {
   "cell_type": "code",
   "execution_count": 44,
   "id": "c59c4245",
   "metadata": {},
   "outputs": [],
   "source": [
    "# Genelde derin öğrenme modeli olan RNN kulanbılırken veri türü float32 tipine çevrilir bende bu dönüşüm işlemlerini yapıyorum.\n",
    "\n",
    "data = data.astype('float32')"
   ]
  },
  {
   "cell_type": "code",
   "execution_count": 45,
   "id": "3921fe2f",
   "metadata": {},
   "outputs": [
    {
     "data": {
      "text/plain": [
       "numpy.float32"
      ]
     },
     "execution_count": 45,
     "metadata": {},
     "output_type": "execute_result"
    }
   ],
   "source": [
    "# Gerekli dönüşüm işlemi yapılmış oldu.\n",
    "\n",
    "type(data[0])"
   ]
  },
  {
   "cell_type": "code",
   "execution_count": 46,
   "id": "86ba01d0",
   "metadata": {},
   "outputs": [
    {
     "data": {
      "text/plain": [
       "(144,)"
      ]
     },
     "execution_count": 46,
     "metadata": {},
     "output_type": "execute_result"
    }
   ],
   "source": [
    "# Burası önemli !!!\n",
    "# Veriyi modele sokmadan önce bir boyut ayarlanması yapılması gerekmektedir.\n",
    "\n",
    "data.shape"
   ]
  },
  {
   "cell_type": "code",
   "execution_count": 47,
   "id": "0b7dc55f",
   "metadata": {},
   "outputs": [],
   "source": [
    "# Burda 144'e 1 görünümlü veri şekline sahip olmam gerekir.\n",
    "\n",
    "data = data.reshape(-1,1)"
   ]
  },
  {
   "cell_type": "code",
   "execution_count": 48,
   "id": "0da66084",
   "metadata": {},
   "outputs": [
    {
     "data": {
      "text/plain": [
       "(144, 1)"
      ]
     },
     "execution_count": 48,
     "metadata": {},
     "output_type": "execute_result"
    }
   ],
   "source": [
    "# Artık veri tek kanal içerisinde ve model üzerinde eğitilmeyue hazır durmdadır.\n",
    "\n",
    "data.shape"
   ]
  },
  {
   "cell_type": "raw",
   "id": "bcc9fc2d",
   "metadata": {},
   "source": [
    "# Şimid elimizdeki veriyi train ve test olarak iki parçaya ayırmam gerekm ektedir."
   ]
  },
  {
   "cell_type": "raw",
   "id": "8f91a487",
   "metadata": {},
   "source": [
    "# Model trarin seti üzerinde öğrenme işlemi yaparken test seti üzerinde ise öğendiği bilgilerin başarım oranına bakaçağız.\n",
    "# Modelde test train veri ayrımını yaparken sklearn ayrımını bizim için yapardı. Fakat Burası önemli! Bu ayrımı rastgele olurdu\n",
    "#ama şimdi olmaz bizim elimizde zaman iterasyonalrı var veri seti üzerinden anlatayım 1955 üzerinde 1949 verisi ile ayrım yapamaz\n",
    "#veri anlamsallığını yitirir o yüzden zaman probleminide ele alıp veri üzerinden bu şekilde bir inceleme yapmak gerekir."
   ]
  },
  {
   "cell_type": "raw",
   "id": "1e60d19f",
   "metadata": {},
   "source": [
    "# Peki bu sorunu nasıl çözeriz bir fonksyon tanımlayıp veriri bir kısmını test ve bir kısmını ise train olarak ayırmak gerekicek."
   ]
  },
  {
   "cell_type": "code",
   "execution_count": 50,
   "id": "414f5052",
   "metadata": {},
   "outputs": [],
   "source": [
    "# Burda iki veri türünde işlem yapaçağız birincisi dataframen ben bölme yapacağım veri olarak ele alıyorum.\n",
    "# Test size ise veri setini böleçeğim oran olarak ele almam daha doğru olur.\n",
    "# Fonksyona bu iki veri türünü yazıyorum.\n",
    "# position ise girilen test oranından 1 tam çıkar bunu dataframeni al yuvarla ve integer olarak al işlemini yaptırıyorum.\n",
    "# yazılıan kısım train ve kalan veri kısmı ise test olarak tanımlanmasını yapıyorum.\n",
    "\n",
    "def split_data(dataframe, test_size):\n",
    "    position = int(round(len(dataframe) * (1-test_size)))\n",
    "    train = dataframe[:position]\n",
    "    test = dataframe[position:]\n",
    "    return train, test, position"
   ]
  },
  {
   "cell_type": "code",
   "execution_count": 102,
   "id": "177a8ccd",
   "metadata": {},
   "outputs": [],
   "source": [
    "# Şimdi veriyi bu bölme işlemini gerçekleştiriyorum.\n",
    "\n",
    "train, test, position = split_data(data, 0.33)"
   ]
  },
  {
   "cell_type": "code",
   "execution_count": 114,
   "id": "54b89ffe",
   "metadata": {},
   "outputs": [
    {
     "name": "stdout",
     "output_type": "stream",
     "text": [
      "(96, 1) (48, 1)\n"
     ]
    }
   ],
   "source": [
    "# Veriyi split etiktenj sonra şekline bir bakıyorum.\n",
    "\n",
    "print(train.shape, test.shape)\n",
    "# Doksanaltı ay üzerinden modeli train edeçeğiz ve kırk sekir ay üzerindende modeli tst edeçeğiz bu işlemleri bu şekilde tanımlanmasını yapıyorum.\n"
   ]
  },
  {
   "cell_type": "raw",
   "id": "ecdce621",
   "metadata": {},
   "source": [
    "# Şimdi passengers veri tipini 0 - 1 arasında bir veri türüne dönüştürmeliyim.\n",
    "# Dikkat bunu neden yapıyorum?\n",
    "# Gradient Descent tabanlı öğrenme türkelrinde uzaklık türünde işlem yapılacak ise model eğitimini optimizasyonu daha iyi yapıp \n",
    "daha hızlı bir eğitim işlşemi yapmak amaçıyla olmalıdır.\n",
    "# Bunun sebebi optimizasyon süzerini azaltmak ve bu bir veri standartlaştırma işlemidir."
   ]
  },
  {
   "cell_type": "raw",
   "id": "daee4603",
   "metadata": {},
   "source": [
    "# Gradient Descent tabanlı ağaç yöntemleri, yapay sinir ağları ve regresyon problemlerinde bunu kullanmak alışkanlık haline \n",
    "gelmelidir."
   ]
  },
  {
   "cell_type": "raw",
   "id": "e65fa1f5",
   "metadata": {},
   "source": [
    "# Bir önemli nokta veri setinde bu standartlaştırma yapılmazsa 'bazı ağaç modelleri hariç' veriler birbirini ezebilir.\n",
    "# Bu işlem bununda önüne geçmektedir."
   ]
  },
  {
   "cell_type": "code",
   "execution_count": 53,
   "id": "c8a22f9d",
   "metadata": {},
   "outputs": [],
   "source": [
    "scaler_train = MinMaxScaler(feature_range = (0,1))"
   ]
  },
  {
   "cell_type": "code",
   "execution_count": 55,
   "id": "c77eabc9",
   "metadata": {},
   "outputs": [],
   "source": [
    "train = scaler_train.fit_transform(train)"
   ]
  },
  {
   "cell_type": "code",
   "execution_count": 56,
   "id": "cf2ea219",
   "metadata": {
    "scrolled": true
   },
   "outputs": [
    {
     "data": {
      "text/plain": [
       "array([[0.02588999],\n",
       "       [0.04530746],\n",
       "       [0.09061491],\n",
       "       [0.08090615],\n",
       "       [0.05501619],\n",
       "       [0.10032365],\n",
       "       [0.14239484],\n",
       "       [0.14239484],\n",
       "       [0.10355988],\n",
       "       [0.04854369],\n",
       "       [0.        ],\n",
       "       [0.04530746],\n",
       "       [0.03559873],\n",
       "       [0.07119742],\n",
       "       [0.11974111],\n",
       "       [0.10032365],\n",
       "       [0.06796119],\n",
       "       [0.14563107],\n",
       "       [0.21359226],\n",
       "       [0.21359226],\n",
       "       [0.17475727],\n",
       "       [0.09385115],\n",
       "       [0.03236246],\n",
       "       [0.11650488],\n",
       "       [0.13268611],\n",
       "       [0.14886734],\n",
       "       [0.2394822 ],\n",
       "       [0.1909385 ],\n",
       "       [0.22006473],\n",
       "       [0.2394822 ],\n",
       "       [0.3074434 ],\n",
       "       [0.3074434 ],\n",
       "       [0.25889972],\n",
       "       [0.18770227],\n",
       "       [0.13592234],\n",
       "       [0.20064726],\n",
       "       [0.2168285 ],\n",
       "       [0.24595472],\n",
       "       [0.2880259 ],\n",
       "       [0.24919096],\n",
       "       [0.25566342],\n",
       "       [0.36893204],\n",
       "       [0.40776703],\n",
       "       [0.44660196],\n",
       "       [0.33980587],\n",
       "       [0.28155342],\n",
       "       [0.22006473],\n",
       "       [0.29126218],\n",
       "       [0.29773465],\n",
       "       [0.29773465],\n",
       "       [0.4271845 ],\n",
       "       [0.42394826],\n",
       "       [0.4045308 ],\n",
       "       [0.4498382 ],\n",
       "       [0.5177994 ],\n",
       "       [0.54368937],\n",
       "       [0.43042073],\n",
       "       [0.34627834],\n",
       "       [0.24595472],\n",
       "       [0.31391588],\n",
       "       [0.32362464],\n",
       "       [0.27184466],\n",
       "       [0.42394826],\n",
       "       [0.39805827],\n",
       "       [0.42071202],\n",
       "       [0.5177994 ],\n",
       "       [0.64077675],\n",
       "       [0.61165047],\n",
       "       [0.50161815],\n",
       "       [0.4045308 ],\n",
       "       [0.32038835],\n",
       "       [0.4045308 ],\n",
       "       [0.44660196],\n",
       "       [0.41747573],\n",
       "       [0.52750814],\n",
       "       [0.5339806 ],\n",
       "       [0.5372169 ],\n",
       "       [0.682848  ],\n",
       "       [0.841424  ],\n",
       "       [0.7864078 ],\n",
       "       [0.6731392 ],\n",
       "       [0.55016184],\n",
       "       [0.43042073],\n",
       "       [0.5631068 ],\n",
       "       [0.5825243 ],\n",
       "       [0.5598706 ],\n",
       "       [0.68932045],\n",
       "       [0.6763755 ],\n",
       "       [0.69255674],\n",
       "       [0.87378645],\n",
       "       [1.0000001 ],\n",
       "       [0.9741101 ],\n",
       "       [0.8122978 ],\n",
       "       [0.6537217 ],\n",
       "       [0.5404531 ],\n",
       "       [0.6537217 ]], dtype=float32)"
      ]
     },
     "execution_count": 56,
     "metadata": {},
     "output_type": "execute_result"
    }
   ],
   "source": [
    "# Dönüşme işlemi sonucuna bakıyorum.\n",
    "\n",
    "train"
   ]
  },
  {
   "cell_type": "raw",
   "id": "629bce08",
   "metadata": {},
   "source": [
    "# Train ve test veri setini bu işlemlerde ayrı ayrı yapmak zorundayız yoksa data lineage problemi yaşarız.\n",
    "# Nedir Data Lineage? Veinin test ve tarin de standartlaşmada bir olarak standartlaşma yapılması durumunda verir sonrasında düzgün ayrılamama ve doğru bir eğitim süreci olmaması durumudur.\n",
    "# Train setindeki işlemler test setindeki verilere işarat edebilir buda bu işlemin sağlıklı olmaması durumuna yol acar?"
   ]
  },
  {
   "cell_type": "code",
   "execution_count": 58,
   "id": "7f0a050f",
   "metadata": {},
   "outputs": [],
   "source": [
    "scaler_test = MinMaxScaler(feature_range = (0,1))"
   ]
  },
  {
   "cell_type": "code",
   "execution_count": 59,
   "id": "c5c24ba8",
   "metadata": {},
   "outputs": [],
   "source": [
    "test = scaler_test.fit_transform(train)"
   ]
  },
  {
   "cell_type": "code",
   "execution_count": 63,
   "id": "8ebe219d",
   "metadata": {},
   "outputs": [
    {
     "data": {
      "text/plain": [
       "array([[0.02588999],\n",
       "       [0.04530746],\n",
       "       [0.09061491],\n",
       "       [0.08090615],\n",
       "       [0.05501619]], dtype=float32)"
      ]
     },
     "execution_count": 63,
     "metadata": {},
     "output_type": "execute_result"
    }
   ],
   "source": [
    "# Bu genel işlemler sonrasında bir gözlem yapalım.\n",
    "\n",
    "train[0:5]"
   ]
  },
  {
   "cell_type": "code",
   "execution_count": 64,
   "id": "25da1a4b",
   "metadata": {},
   "outputs": [
    {
     "data": {
      "text/plain": [
       "array([[0.02588999],\n",
       "       [0.04530745],\n",
       "       [0.09061491],\n",
       "       [0.08090615],\n",
       "       [0.05501618]], dtype=float32)"
      ]
     },
     "execution_count": 64,
     "metadata": {},
     "output_type": "execute_result"
    }
   ],
   "source": [
    "test[0:5]"
   ]
  },
  {
   "cell_type": "raw",
   "id": "e6be4a70",
   "metadata": {},
   "source": [
    "# Şimdi DİKKAT model eğitiminde modelin geçmişten etkilenme durunmu kendisine en yakın zaman dilimindeki alandan etkilenmesine bakılmalı.\n",
    "# Örnek veriyim eğer cuma günki satşların geçmiş ile kıyaslanması yapılacaksa bu işlem perşenbe günündeki satışlar üzerinden en fazla etkilenmesi ona daha çok önem verilmeli.\n",
    "# Bu ana T dersek T-1 aya daha çok etkilenmeli."
   ]
  },
  {
   "cell_type": "code",
   "execution_count": 109,
   "id": "604745f8",
   "metadata": {},
   "outputs": [],
   "source": [
    "# Örnek üzerinden bakalım aylık yolcu sayısına bakıyorsak bir önceki aylık yolcu sayısına bakılmalı ve bundan daha çok etkilenmeli \n",
    "# Şimdi bu çok etkilenmeli işlemini yapalım.\n",
    "\n",
    "def create_featuras(data, lookback):  # Burda verisetim var Lookback Şu kadar veriye bak\n",
    "    X, Y = [], []  # Bakılab verileirn  liste şeklinde atamasının yapılması.\n",
    "    for i in range(lookback, len(data)): # her iterasyonda\n",
    "        X.append(data[i-lookback:i,0]) # Bir veri iterasyonunda geriye bak\n",
    "        Y.append(data[i,0]) # Bağımlı değişken o iterasyona bak.\n",
    "        \n",
    "    return np.array(X), np.array(Y) # İterasyon bitene kadar for ile return kullanarak devam et."
   ]
  },
  {
   "cell_type": "code",
   "execution_count": 161,
   "id": "d4575094",
   "metadata": {},
   "outputs": [],
   "source": [
    "lookback = 1"
   ]
  },
  {
   "cell_type": "code",
   "execution_count": 162,
   "id": "8c3ea744",
   "metadata": {},
   "outputs": [],
   "source": [
    "# Tarin seti için bu işlemi gerçekleştiriyorum.\n",
    "\n",
    "X_train, y_train = create_featuras(train, lookback)"
   ]
  },
  {
   "cell_type": "code",
   "execution_count": 163,
   "id": "21d58c7a",
   "metadata": {},
   "outputs": [],
   "source": [
    "# Aynı işlemi test veri seti içinde yapmak gerekiyor.\n",
    "\n",
    "X_test, y_test = create_featuras(test, lookback)"
   ]
  },
  {
   "cell_type": "code",
   "execution_count": 164,
   "id": "6d39afad",
   "metadata": {},
   "outputs": [
    {
     "name": "stdout",
     "output_type": "stream",
     "text": [
      "(95, 1) (95,)\n",
      "(47, 1) (47,)\n"
     ]
    }
   ],
   "source": [
    "# Bu yapılan işlemler sonrası bunların boyut biligilerine bakalım.\n",
    "\n",
    "print(X_train.shape, y_train.shape)\n",
    "print(X_test.shape, y_test.shape)"
   ]
  },
  {
   "cell_type": "code",
   "execution_count": 165,
   "id": "7829c527",
   "metadata": {},
   "outputs": [],
   "source": [
    "# Şimidi RNN veriyi göndermek için son adım.\n",
    "# Rnn derki bana göndericeğin veri 3 katmanlı bir yapıda olmalı bun RNN yapısı ile ilgilki Şimidi Bunu sağlıyorum."
   ]
  },
  {
   "cell_type": "code",
   "execution_count": 166,
   "id": "13a9ef8f",
   "metadata": {},
   "outputs": [],
   "source": [
    "# Dönüştürme işlemini yapıyorum.\n",
    "# bU işlemi numpy içindeki reshape yöntemi ile yapıyorum.\n",
    "\n",
    "\n",
    "X_train = np.reshape(X_train, (X_train.shape[0],1, X_train.shape[1]))\n",
    "X_test = np.reshape(X_test, (X_test.shape[0],1, X_test.shape[1]))\n",
    "y_train = y_train.reshape(-1,1)\n",
    "y_test = y_test.reshape(-1,1)"
   ]
  },
  {
   "cell_type": "code",
   "execution_count": 167,
   "id": "b258bd7d",
   "metadata": {},
   "outputs": [
    {
     "name": "stdout",
     "output_type": "stream",
     "text": [
      "(95, 1, 1) (95, 1) (47, 1, 1) (47, 1)\n"
     ]
    }
   ],
   "source": [
    "#şimdi bu yapıyı kontrol ediyorum işlem gerçekleşti diye.\n",
    "\n",
    "print(X_train.shape, y_train.shape, X_test.shape, y_test.shape)\n",
    "# RNN istediği boyuta ulaştı tek boyut bile olsa o üçünçü boyut verinin RNN'e uyumlu olmasını sağlayacaktır."
   ]
  },
  {
   "cell_type": "markdown",
   "id": "2e7d5d2b",
   "metadata": {},
   "source": [
    "# Modelleme"
   ]
  },
  {
   "cell_type": "raw",
   "id": "d8cc7712",
   "metadata": {},
   "source": [
    "# Öncelikle mimari yapısını ifade edelim."
   ]
  },
  {
   "cell_type": "code",
   "execution_count": 168,
   "id": "fd29e8fe",
   "metadata": {},
   "outputs": [],
   "source": [
    "# Burda model tanımlamada medel için bir methot çağırmaı yapıyorum.\n",
    "# Bu yöntem tensorflowun bize sağladığı bir sinir ağı kurma yöntemidir.\n",
    "# Sequentil anlamı sıralı anlamına gelmektedir ved buda sıralı veri yapıları üzerinde çalışma için bu şekilde bir \n",
    "#tanımlama yapılmaktadır.\n",
    "\n",
    "model = Sequential()"
   ]
  },
  {
   "cell_type": "code",
   "execution_count": 169,
   "id": "3b2949af",
   "metadata": {},
   "outputs": [],
   "source": [
    "# Şimde Basit RNN yapısının kurulumunu yapıyorum.\n",
    "\n",
    "model.add(SimpleRNN(units=50,   # Bu ifade nörönları ifade etmektedir ve noron sayısını ifade eder.\n",
    "                   activation='relu', # Bu ifade modelde kullancağaım activasyonu sayısını ifade etmektedir.\n",
    "                   input_shape=(X_train.shape[1], lookback))) # Burda lookback kullanıp boyut bilgisini sinir ağına ifade ediyorum.\n",
    "\n",
    "\n",
    "model.add(Dropout(0.2))  # Modelin aşırı öğrenmesini önlemeye yönelik yazdım.\n",
    "\n",
    "model.add(Dense(1))      # Bu katman çıkış katmanımdır. Bu ifade çıktının bir tane olacağı anlamına gelmektedir.\n",
    "# Burdaki çıktı neden 1? Burda çıktı katogorik bir sınıflama değil regresyon benzeri bir çıktı olarak düşünüldüğü için."
   ]
  },
  {
   "cell_type": "code",
   "execution_count": 170,
   "id": "184cbfcb",
   "metadata": {},
   "outputs": [
    {
     "name": "stdout",
     "output_type": "stream",
     "text": [
      "Model: \"sequential_2\"\n",
      "_________________________________________________________________\n",
      " Layer (type)                Output Shape              Param #   \n",
      "=================================================================\n",
      " simple_rnn_6 (SimpleRNN)    (None, 50)                2600      \n",
      "                                                                 \n",
      " dropout_2 (Dropout)         (None, 50)                0         \n",
      "                                                                 \n",
      " dense_2 (Dense)             (None, 1)                 51        \n",
      "                                                                 \n",
      "=================================================================\n",
      "Total params: 2651 (10.36 KB)\n",
      "Trainable params: 2651 (10.36 KB)\n",
      "Non-trainable params: 0 (0.00 Byte)\n",
      "_________________________________________________________________\n"
     ]
    }
   ],
   "source": [
    "# Model yapısını inceliyorum.\n",
    "\n",
    "model.summary()"
   ]
  },
  {
   "cell_type": "raw",
   "id": "c2bb32a7",
   "metadata": {},
   "source": [
    "# Optimizasyon ve değerlendirme metriklerinin eklenmesi. Modelin 'İÇ' özelikleri"
   ]
  },
  {
   "cell_type": "code",
   "execution_count": 171,
   "id": "30136c38",
   "metadata": {},
   "outputs": [],
   "source": [
    "# Modelin şimdi değerlendirme için ne gibi yapılar kullanmasını belirliyorum.\n",
    "# Hata değeri için hata kareler orttalamasına bakıyorum. \n",
    "# Ve bu hata oranını optimize etmek için adam yöntemininb kullanılmasını belirliyorum.\n",
    "# Burda ilgilendiğimiz fonksyona göre loss fonksyonunu belirliyoruz ve işlem yapıyoruz.\n",
    "\n",
    "model.compile(loss='mean_squared_error', optimizer='adam')"
   ]
  },
  {
   "cell_type": "code",
   "execution_count": 172,
   "id": "34f2258e",
   "metadata": {},
   "outputs": [],
   "source": [
    "# Sırada modelimizin aşırı öğrenmeye karşılık kulanaçağımız yapılar yer almakta.\n",
    "\n",
    "callbacks = [EarlyStopping(monitor='val_loss', patience=3, verbose=2, mode=\"min\"),  # Tarin ve validasyon seti araındaki değerlere bakıp aşırı öğrenmeyi önler.\n",
    "             # val_loss odaklanacağı nokta bu yöntemin, patience işlem sonunda kaç adım girmesi içi, mode ise min değer olduğunda eğitim durur.\n",
    "            ModelCheckpoint(filepath='mymodel.h5', monitor='val_loss', mode=\"min\",\n",
    "            # Modelin kaydedileçeği ismlendirme tanımlanması yapılıyor. İzleme metriği val_loss tanımlanmış. Ve yine odak min değeri.\n",
    "            save_best_only=True, save_weights_only=False, verbose=2)]\n",
    "            # Burda en iyi model kaydediyorum. Sadece model ağırlıklarını kaydet kısmını seçmiyorum.\n"
   ]
  },
  {
   "cell_type": "code",
   "execution_count": 173,
   "id": "e735f1cf",
   "metadata": {
    "scrolled": false
   },
   "outputs": [
    {
     "name": "stdout",
     "output_type": "stream",
     "text": [
      "Epoch 1/50\n",
      "64/95 [===================>..........] - ETA: 0s - loss: 23698.2168 \n",
      "Epoch 1: val_loss improved from inf to 34912.06250, saving model to mymodel.h5\n",
      "95/95 [==============================] - 1s 3ms/step - loss: 26599.2754 - val_loss: 34912.0625\n",
      "Epoch 2/50\n",
      "64/95 [===================>..........] - ETA: 0s - loss: 4546.7334\n",
      "Epoch 2: val_loss improved from 34912.06250 to 4835.57520, saving model to mymodel.h5\n",
      "95/95 [==============================] - 0s 1ms/step - loss: 5190.9814 - val_loss: 4835.5752\n",
      "Epoch 3/50\n",
      "61/95 [==================>...........] - ETA: 0s - loss: 1391.7832\n",
      "Epoch 3: val_loss improved from 4835.57520 to 2812.32715, saving model to mymodel.h5\n",
      "95/95 [==============================] - 0s 1ms/step - loss: 2473.8469 - val_loss: 2812.3271\n",
      "Epoch 4/50\n",
      "64/95 [===================>..........] - ETA: 0s - loss: 1611.4877\n",
      "Epoch 4: val_loss improved from 2812.32715 to 2443.50146, saving model to mymodel.h5\n",
      "95/95 [==============================] - 0s 1ms/step - loss: 3111.9326 - val_loss: 2443.5015\n",
      "Epoch 5/50\n",
      "63/95 [==================>...........] - ETA: 0s - loss: 1279.0001\n",
      "Epoch 5: val_loss improved from 2443.50146 to 2380.68213, saving model to mymodel.h5\n",
      "95/95 [==============================] - 0s 1ms/step - loss: 1719.4885 - val_loss: 2380.6821\n",
      "Epoch 6/50\n",
      "65/95 [===================>..........] - ETA: 0s - loss: 1040.3513\n",
      "Epoch 6: val_loss did not improve from 2380.68213\n",
      "95/95 [==============================] - 0s 1ms/step - loss: 2192.6243 - val_loss: 2665.3455\n",
      "Epoch 7/50\n",
      "60/95 [=================>............] - ETA: 0s - loss: 1431.3215\n",
      "Epoch 7: val_loss improved from 2380.68213 to 2372.02856, saving model to mymodel.h5\n",
      "95/95 [==============================] - 0s 1ms/step - loss: 2123.4424 - val_loss: 2372.0286\n",
      "Epoch 8/50\n",
      "65/95 [===================>..........] - ETA: 0s - loss: 1165.7297\n",
      "Epoch 8: val_loss did not improve from 2372.02856\n",
      "95/95 [==============================] - 0s 1ms/step - loss: 1469.9237 - val_loss: 2861.0000\n",
      "Epoch 9/50\n",
      "54/95 [================>.............] - ETA: 0s - loss: 1385.3212\n",
      "Epoch 9: val_loss did not improve from 2372.02856\n",
      "95/95 [==============================] - 0s 1ms/step - loss: 2110.8130 - val_loss: 2383.2803\n",
      "Epoch 10/50\n",
      "63/95 [==================>...........] - ETA: 0s - loss: 1065.2552\n",
      "Epoch 10: val_loss did not improve from 2372.02856\n",
      "95/95 [==============================] - 0s 1ms/step - loss: 2267.3630 - val_loss: 2398.4253\n",
      "Epoch 10: early stopping\n"
     ]
    }
   ],
   "source": [
    "# Şimdi modelin fit etme işlemlerini gerçekleştiriyorum.\n",
    "# Modelin sonuçlarını history olarak tutuyorum.\n",
    "\n",
    "history = model.fit(x=X_train,                          # model fit derki bağımlı yada bağımsız değişkenleri ver.\n",
    "                   y=y_train,\n",
    "                   epochs=50,                           # kaç epoch işlemi gerçekleşir.\n",
    "                   batch_size=1,                        # Veri gruplarının boyutunu ifade eder.\n",
    "                   validation_data=(X_test, y_test),    # Validasyon datası olarak ne kullanılacak. Validasyon hatasından bu test verilerinden doğrulama alıcağız.\n",
    "                   callbacks=callbacks,                 # Aşırı öğrenme kısmını tanımlıyorum.\n",
    "                   shuffle=False)                       # Optimizasyon işleminde karıştırmayı false yapıyorum."
   ]
  },
  {
   "cell_type": "raw",
   "id": "15a150dc",
   "metadata": {},
   "source": [
    "# Model eğitilirken henüz 6. epochda iken early stoping'e takılıp durmuş.\n",
    "# Nornalde 50 epoch yazmıştım ama aşırı öğrenme sezdiği için bu eğitimi çok daha erkenden durdurdu."
   ]
  },
  {
   "cell_type": "raw",
   "id": "0d9f9896",
   "metadata": {},
   "source": [
    "# Modelim eğitimindeki bu dışsal ayarlamaları hiper paremetreleri denyerek daha iyi sonuçlar elde etmeye odaklı tekrardan elden geçirilebilir.\n",
    "# Dışardan ayarlanan hiperparemetre değerleri dışardan ayarlanan ve deneme yanılma yoluyla ayarlanan paremetrelerdir."
   ]
  },
  {
   "cell_type": "code",
   "execution_count": 174,
   "id": "a1de41eb",
   "metadata": {},
   "outputs": [
    {
     "data": {
      "image/png": "[encoded data removed]",
      "text/plain": [
       "<Figure size 2000x500 with 1 Axes>"
      ]
     },
     "metadata": {},
     "output_type": "display_data"
    }
   ],
   "source": [
    "#Eğitim sürecinin görselleştirilmesi.\n",
    "\n",
    "plt.figure(figsize=(20, 5)) \n",
    "plt.subplot(1, 2, 2)\n",
    "plt.plot(history.history['loss'], label='Training Loss') \n",
    "plt.plot(history.history['val_loss'], label='Validation Loss')\n",
    "plt. legend (loc='upper right')\n",
    "plt.xlabel('Epoch', fontsize=16)\n",
    "plt.ylabel('Loss',\n",
    "fontsize=16)\n",
    "plt.ylim([0, max(plt.ylim())])\n",
    "plt.title('Training and Validation Loss', fontsize=16)\n",
    "plt.show()"
   ]
  },
  {
   "cell_type": "markdown",
   "id": "a1019a19",
   "metadata": {},
   "source": [
    "# Değerlendirme"
   ]
  },
  {
   "cell_type": "raw",
   "id": "612bca46",
   "metadata": {},
   "source": [
    "# Burda modelimizin tahmin etme başarınsını üzerinden model değerlendirmesi yapaçağız."
   ]
  },
  {
   "cell_type": "code",
   "execution_count": 177,
   "id": "41c8ffca",
   "metadata": {},
   "outputs": [
    {
     "name": "stdout",
     "output_type": "stream",
     "text": [
      "47/47 [==============================] - 0s 674us/step - loss: 2398.4253\n",
      "\u000b",
      " test loss: 239842.5%\n"
     ]
    }
   ],
   "source": [
    "loss = model.evaluate(X_test, y_test, batch_size=1)\n",
    "print(\"\\v test loss: %.1f%%\" % (100.0 * loss))"
   ]
  },
  {
   "cell_type": "raw",
   "id": "35cc0cef",
   "metadata": {},
   "source": [
    "# Burda sizi uyarıçağım benim modelimde başarı kat sayıları yani modelin eğitiminde loss değeri dağıtmada sorun çıktı gidilen yön doğru ama elde edilen sonuçlar başarılı değil bu benim şu an çözemediğim bir sorun eğer sorunun çözümünü bulursam sizlere bilgi veririm."
   ]
  },
  {
   "cell_type": "code",
   "execution_count": 178,
   "id": "9a81cb08",
   "metadata": {},
   "outputs": [
    {
     "name": "stdout",
     "output_type": "stream",
     "text": [
      "3/3 [==============================] - 0s 2ms/step\n"
     ]
    }
   ],
   "source": [
    "# Modelle tahmin işlemi yaptırıyorum.\n",
    "\n",
    "train_predict = model.predict(X_train)"
   ]
  },
  {
   "cell_type": "code",
   "execution_count": 179,
   "id": "753073c7",
   "metadata": {},
   "outputs": [
    {
     "name": "stdout",
     "output_type": "stream",
     "text": [
      "2/2 [==============================] - 0s 1ms/step\n"
     ]
    }
   ],
   "source": [
    "test_predict = model.predict(X_test)"
   ]
  },
  {
   "cell_type": "code",
   "execution_count": 180,
   "id": "bd4f44f7",
   "metadata": {},
   "outputs": [],
   "source": [
    "# standartlaştırma işlemini geriye doğru çeviriyorum.\n",
    "# Verileri 0 ve 1 çevirme işlemleri diyebiliriz.\n",
    "\n",
    "train_predict = scaler_train.inverse_transform(train_predict)\n",
    "test_predict = scaler_test.inverse_transform(test_predict)"
   ]
  },
  {
   "cell_type": "code",
   "execution_count": 182,
   "id": "3821eef2",
   "metadata": {},
   "outputs": [],
   "source": [
    "# Bu geri alma işlemini train ve test gerçek değerleri içinde yapmamız gerekiyor.\n",
    "\n",
    "y_train = scaler_train.inverse_transform(y_train)\n",
    "y_test = scaler_test.inverse_transform(y_test)"
   ]
  },
  {
   "cell_type": "code",
   "execution_count": 183,
   "id": "736a143c",
   "metadata": {},
   "outputs": [],
   "source": [
    "# test ve train için RMSE değerlerini inceliyorum.\n",
    "\n",
    "train_rmse = np.sqrt(mean_squared_error(y_train, train_predict))\n",
    "test_rmse = np.sqrt(mean_squared_error(y_test, test_predict))"
   ]
  },
  {
   "cell_type": "code",
   "execution_count": 186,
   "id": "afcf0338",
   "metadata": {},
   "outputs": [
    {
     "name": "stdout",
     "output_type": "stream",
     "text": [
      "Train RMSE: 21565922.0\n",
      "Test RMSE: 48.97372055053711\n"
     ]
    }
   ],
   "source": [
    "# Artık nihayi olarak test ve train hatamıza bakıyoruz.\n",
    "\n",
    "print(f\"Train RMSE: {train_rmse}\")\n",
    "print(f\"Test RMSE: {test_rmse}\")\n",
    "\n",
    "\n",
    "# Benim örenğimde train setinde bir sıkıntı var! Bu bana özel bir durum bunun üzerine çalışıyorum."
   ]
  },
  {
   "cell_type": "code",
   "execution_count": 187,
   "id": "419c4180",
   "metadata": {},
   "outputs": [
    {
     "data": {
      "text/html": [
       "<div>\n",
       "<style scoped>\n",
       "    .dataframe tbody tr th:only-of-type {\n",
       "        vertical-align: middle;\n",
       "    }\n",
       "\n",
       "    .dataframe tbody tr th {\n",
       "        vertical-align: top;\n",
       "    }\n",
       "\n",
       "    .dataframe thead th {\n",
       "        text-align: right;\n",
       "    }\n",
       "</style>\n",
       "<table border=\"1\" class=\"dataframe\">\n",
       "  <thead>\n",
       "    <tr style=\"text-align: right;\">\n",
       "      <th></th>\n",
       "      <th>count</th>\n",
       "      <th>mean</th>\n",
       "      <th>std</th>\n",
       "      <th>min</th>\n",
       "      <th>25%</th>\n",
       "      <th>50%</th>\n",
       "      <th>75%</th>\n",
       "      <th>max</th>\n",
       "    </tr>\n",
       "  </thead>\n",
       "  <tbody>\n",
       "    <tr>\n",
       "      <th>Passengers</th>\n",
       "      <td>144.0</td>\n",
       "      <td>280.298611</td>\n",
       "      <td>119.966317</td>\n",
       "      <td>104.0</td>\n",
       "      <td>180.0</td>\n",
       "      <td>265.5</td>\n",
       "      <td>360.5</td>\n",
       "      <td>622.0</td>\n",
       "    </tr>\n",
       "  </tbody>\n",
       "</table>\n",
       "</div>"
      ],
      "text/plain": [
       "            count        mean         std    min    25%    50%    75%    max\n",
       "Passengers  144.0  280.298611  119.966317  104.0  180.0  265.5  360.5  622.0"
      ]
     },
     "execution_count": 187,
     "metadata": {},
     "output_type": "execute_result"
    }
   ],
   "source": [
    "df.describe().T"
   ]
  },
  {
   "cell_type": "raw",
   "id": "10e6b47c",
   "metadata": {},
   "source": [
    "# Ama genel değerlendirme;\n",
    "\n",
    "Modelim test veri grubunda birim cinsinden 48'lik bir değerlendirme hatası yapmış oldu.\n",
    "Diyelim 300 olması gerekiyor ama ben 348 tahmin ederim."
   ]
  },
  {
   "cell_type": "markdown",
   "id": "c76648d8",
   "metadata": {},
   "source": [
    "# Tahmin"
   ]
  },
  {
   "cell_type": "raw",
   "id": "d2b1a260",
   "metadata": {},
   "source": [
    "Şunu unutmamalısınız model lookback yaptığından 1949 en eski vei ondan öncesine veri yok o yüzden bu yıl ve öncesi sorulduğunda hata alınır. Çünki bir önceli yıldan bir çıkarım yapılır bu model üzerinde gelen bir çalışma olduğu için."
   ]
  },
  {
   "cell_type": "code",
   "execution_count": 188,
   "id": "806cfcc0",
   "metadata": {},
   "outputs": [],
   "source": [
    "# Veri setinin temiz halinin kopyasını almıştım burdan bunun üzerinden tahmin işlemi yapıyorum.\n",
    "\n",
    "train_prediction_df = result_df[lookback:position]"
   ]
  },
  {
   "cell_type": "code",
   "execution_count": 190,
   "id": "4c3ba899",
   "metadata": {},
   "outputs": [],
   "source": [
    "# Kaydetiğim tahmin işlemini getiriyorumn karşılaştırma için.\n",
    "\n",
    "train_prediction_df[\"Predicted\"] = train_predict"
   ]
  },
  {
   "cell_type": "code",
   "execution_count": 191,
   "id": "8559cda0",
   "metadata": {},
   "outputs": [
    {
     "data": {
      "text/html": [
       "<div>\n",
       "<style scoped>\n",
       "    .dataframe tbody tr th:only-of-type {\n",
       "        vertical-align: middle;\n",
       "    }\n",
       "\n",
       "    .dataframe tbody tr th {\n",
       "        vertical-align: top;\n",
       "    }\n",
       "\n",
       "    .dataframe thead th {\n",
       "        text-align: right;\n",
       "    }\n",
       "</style>\n",
       "<table border=\"1\" class=\"dataframe\">\n",
       "  <thead>\n",
       "    <tr style=\"text-align: right;\">\n",
       "      <th></th>\n",
       "      <th>Passengers</th>\n",
       "      <th>Predicted</th>\n",
       "    </tr>\n",
       "    <tr>\n",
       "      <th>Month</th>\n",
       "      <th></th>\n",
       "      <th></th>\n",
       "    </tr>\n",
       "  </thead>\n",
       "  <tbody>\n",
       "    <tr>\n",
       "      <th>1949-02-01</th>\n",
       "      <td>118.0</td>\n",
       "      <td>34244.789062</td>\n",
       "    </tr>\n",
       "    <tr>\n",
       "      <th>1949-03-01</th>\n",
       "      <td>132.0</td>\n",
       "      <td>36063.023438</td>\n",
       "    </tr>\n",
       "    <tr>\n",
       "      <th>1949-04-01</th>\n",
       "      <td>129.0</td>\n",
       "      <td>40305.566406</td>\n",
       "    </tr>\n",
       "    <tr>\n",
       "      <th>1949-05-01</th>\n",
       "      <td>121.0</td>\n",
       "      <td>39396.449219</td>\n",
       "    </tr>\n",
       "    <tr>\n",
       "      <th>1949-06-01</th>\n",
       "      <td>135.0</td>\n",
       "      <td>36972.140625</td>\n",
       "    </tr>\n",
       "  </tbody>\n",
       "</table>\n",
       "</div>"
      ],
      "text/plain": [
       "            Passengers     Predicted\n",
       "Month                               \n",
       "1949-02-01       118.0  34244.789062\n",
       "1949-03-01       132.0  36063.023438\n",
       "1949-04-01       129.0  40305.566406\n",
       "1949-05-01       121.0  39396.449219\n",
       "1949-06-01       135.0  36972.140625"
      ]
     },
     "execution_count": 191,
     "metadata": {},
     "output_type": "execute_result"
    }
   ],
   "source": [
    "train_prediction_df.head()\n",
    "\n",
    "# Burda inanılmaz bir hata söz konusu gelen gidişat doğru ama bir sorun var."
   ]
  },
  {
   "cell_type": "code",
   "execution_count": 192,
   "id": "c4d916fa",
   "metadata": {},
   "outputs": [
    {
     "data": {
      "text/html": [
       "<div>\n",
       "<style scoped>\n",
       "    .dataframe tbody tr th:only-of-type {\n",
       "        vertical-align: middle;\n",
       "    }\n",
       "\n",
       "    .dataframe tbody tr th {\n",
       "        vertical-align: top;\n",
       "    }\n",
       "\n",
       "    .dataframe thead th {\n",
       "        text-align: right;\n",
       "    }\n",
       "</style>\n",
       "<table border=\"1\" class=\"dataframe\">\n",
       "  <thead>\n",
       "    <tr style=\"text-align: right;\">\n",
       "      <th></th>\n",
       "      <th>Passengers</th>\n",
       "      <th>Predicted</th>\n",
       "    </tr>\n",
       "    <tr>\n",
       "      <th>Month</th>\n",
       "      <th></th>\n",
       "      <th></th>\n",
       "    </tr>\n",
       "  </thead>\n",
       "  <tbody>\n",
       "    <tr>\n",
       "      <th>1957-02-01</th>\n",
       "      <td>301.0</td>\n",
       "      <td>309.571869</td>\n",
       "    </tr>\n",
       "    <tr>\n",
       "      <th>1957-03-01</th>\n",
       "      <td>356.0</td>\n",
       "      <td>295.841980</td>\n",
       "    </tr>\n",
       "    <tr>\n",
       "      <th>1957-04-01</th>\n",
       "      <td>348.0</td>\n",
       "      <td>349.780945</td>\n",
       "    </tr>\n",
       "    <tr>\n",
       "      <th>1957-05-01</th>\n",
       "      <td>355.0</td>\n",
       "      <td>341.935272</td>\n",
       "    </tr>\n",
       "    <tr>\n",
       "      <th>1957-06-01</th>\n",
       "      <td>422.0</td>\n",
       "      <td>348.800232</td>\n",
       "    </tr>\n",
       "  </tbody>\n",
       "</table>\n",
       "</div>"
      ],
      "text/plain": [
       "            Passengers   Predicted\n",
       "Month                             \n",
       "1957-02-01       301.0  309.571869\n",
       "1957-03-01       356.0  295.841980\n",
       "1957-04-01       348.0  349.780945\n",
       "1957-05-01       355.0  341.935272\n",
       "1957-06-01       422.0  348.800232"
      ]
     },
     "execution_count": 192,
     "metadata": {},
     "output_type": "execute_result"
    }
   ],
   "source": [
    "test_predict_df = result_df[position+lookback:]\n",
    "test_predict_df[\"Predicted\"] = test_predict\n",
    "test_predict_df.head()\n",
    "\n",
    "# Test veri setinde o hatayı almıyorum o hata train veri setinde karşıma çıkıyor."
   ]
  },
  {
   "cell_type": "code",
   "execution_count": 194,
   "id": "f3615134",
   "metadata": {},
   "outputs": [
    {
     "ename": "NameError",
     "evalue": "name 'test_prediction_df' is not defined",
     "output_type": "error",
     "traceback": [
      "\u001b[1;31m---------------------------------------------------------------------------\u001b[0m",
      "\u001b[1;31mNameError\u001b[0m                                 Traceback (most recent call last)",
      "Cell \u001b[1;32mIn[194], line 5\u001b[0m\n\u001b[0;32m      3\u001b[0m plt\u001b[38;5;241m.\u001b[39mplot(result_df, label \u001b[38;5;241m=\u001b[39m \u001b[38;5;124m'\u001b[39m\u001b[38;5;124mReal Number of Passengers\u001b[39m\u001b[38;5;124m'\u001b[39m)\n\u001b[0;32m      4\u001b[0m plt\u001b[38;5;241m.\u001b[39mplot(train_prediction_df[\u001b[38;5;124m\"\u001b[39m\u001b[38;5;124mPredicted\u001b[39m\u001b[38;5;124m\"\u001b[39m], color \u001b[38;5;241m=\u001b[39m \u001b[38;5;124m'\u001b[39m\u001b[38;5;124mblue\u001b[39m\u001b[38;5;124m'\u001b[39m, label \u001b[38;5;241m=\u001b[39m \u001b[38;5;124m'\u001b[39m\u001b[38;5;124mTrain Predicted Number of Passengers\u001b[39m\u001b[38;5;124m'\u001b[39m) \n\u001b[1;32m----> 5\u001b[0m plt\u001b[38;5;241m.\u001b[39mplot(test_prediction_df[\u001b[38;5;124m\"\u001b[39m\u001b[38;5;124mPredicted\u001b[39m\u001b[38;5;124m\"\u001b[39m], color \u001b[38;5;241m=\u001b[39m \u001b[38;5;124m\"\u001b[39m\u001b[38;5;124mred\u001b[39m\u001b[38;5;124m\"\u001b[39m, label \u001b[38;5;241m=\u001b[39m \u001b[38;5;124m'\u001b[39m\u001b[38;5;124mTest Predicted Number of Passengers\u001b[39m\u001b[38;5;124m'\u001b[39m) \n\u001b[0;32m      6\u001b[0m plt\u001b[38;5;241m.\u001b[39mtitle(\u001b[38;5;124m'\u001b[39m\u001b[38;5;124mNumber of Passengers Prediction\u001b[39m\u001b[38;5;124m'\u001b[39m)\n\u001b[0;32m      7\u001b[0m plt\u001b[38;5;241m.\u001b[39mxlabel(\u001b[38;5;124m'\u001b[39m\u001b[38;5;124mTime\u001b[39m\u001b[38;5;124m'\u001b[39m)\n",
      "\u001b[1;31mNameError\u001b[0m: name 'test_prediction_df' is not defined"
     ]
    },
    {
     "data": {
      "image/png": "[encoded data removed]",
      "text/plain": [
       "<Figure size 1400x500 with 1 Axes>"
      ]
     },
     "metadata": {},
     "output_type": "display_data"
    }
   ],
   "source": [
    "# Train ve Test Tahminlerini ayrı ayrı görselleştirme işlemi\n",
    "\n",
    "plt.figure(figsize=(14,5))\n",
    "plt.plot(result_df, label = 'Real Number of Passengers')\n",
    "plt.plot(train_prediction_df[\"Predicted\"], color = 'blue', label = 'Train Predicted Number of Passengers') \n",
    "plt.plot(test_prediction_df[\"Predicted\"], color = \"red\", label = 'Test Predicted Number of Passengers') \n",
    "plt.title('Number of Passengers Prediction')\n",
    "plt.xlabel('Time')\n",
    "plt.ylabel('Number of Passengers')\n",
    "plt.legend()\n",
    "plt.show()"
   ]
  },
  {
   "cell_type": "code",
   "execution_count": null,
   "id": "d9a8e2cb",
   "metadata": {},
   "outputs": [],
   "source": []
  }
 ],
 "metadata": {
  "kernelspec": {
   "display_name": "Python 3 (ipykernel)",
   "language": "python",
   "name": "python3"
  },
  "language_info": {
   "codemirror_mode": {
    "name": "ipython",
    "version": 3
   },
   "file_extension": ".py",
   "mimetype": "text/x-python",
   "name": "python",
   "nbconvert_exporter": "python",
   "pygments_lexer": "ipython3",
   "version": "3.11.5"
  }
 },
 "nbformat": 4,
 "nbformat_minor": 5
}
